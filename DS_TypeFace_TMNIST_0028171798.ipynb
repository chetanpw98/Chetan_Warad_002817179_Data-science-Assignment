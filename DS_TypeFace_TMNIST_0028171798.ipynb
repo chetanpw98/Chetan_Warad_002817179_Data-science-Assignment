{
  "nbformat": 4,
  "nbformat_minor": 0,
  "metadata": {
    "colab": {
      "provenance": []
    },
    "kernelspec": {
      "name": "python3",
      "display_name": "Python 3"
    },
    "language_info": {
      "name": "python"
    }
  },
  "cells": [
    {
      "cell_type": "markdown",
      "source": [
        "# ABSTRACT"
      ],
      "metadata": {
        "id": "r12RIMnEXjKJ"
      }
    },
    {
      "cell_type": "markdown",
      "source": [
        "In this notebook, we will conduct digit recognition on a dataset featuring typeface-based digits (0-9). We'll employ a straightforward CNN network with two convolutional layers, leveraging the TensorFlow library.\n",
        "\n",
        "Subsequently, we will assess the model's accuracy through an evaluation scheme. Additionally, we'll test the model's performance on a real-world sample image of a digit, verifying its accuracy."
      ],
      "metadata": {
        "id": "_9uTkmAoqq2O"
      }
    },
    {
      "cell_type": "markdown",
      "source": [
        "IMPORTING NECESSARY LIBRARIES"
      ],
      "metadata": {
        "id": "O1ZUTwiIu5oQ"
      }
    },
    {
      "cell_type": "code",
      "source": [
        "# Import necessary libraries\n",
        "import pandas as pd\n",
        "import numpy as np\n",
        "import matplotlib.pyplot as plt\n",
        "import tensorflow as tf\n",
        "from tensorflow import keras"
      ],
      "metadata": {
        "id": "bVmO_M78XvnD"
      },
      "execution_count": 1,
      "outputs": []
    },
    {
      "cell_type": "markdown",
      "source": [
        "LOADING THE DATASET"
      ],
      "metadata": {
        "id": "Jdx3qvUwvJM7"
      }
    },
    {
      "cell_type": "code",
      "source": [
        "#Read training data file\n",
        "df = pd.read_csv('/content/TMNIST_Data.csv')\n",
        "df"
      ],
      "metadata": {
        "colab": {
          "base_uri": "https://localhost:8080/",
          "height": 424
        },
        "id": "F4aGYMygvMey",
        "outputId": "ea152cf1-1692-4655-b4c2-3c5b6450db17"
      },
      "execution_count": 2,
      "outputs": [
        {
          "output_type": "execute_result",
          "data": {
            "text/plain": [
              "                                  names  labels  1  2  3  4  5  6  7  8  ...  \\\n",
              "0                    GrandHotel-Regular       2  0  0  0  0  0  0  0  0  ...   \n",
              "1            EncodeSansCondensed-Medium       8  0  0  0  0  0  0  0  0  ...   \n",
              "2                        Varela-Regular       4  0  0  0  0  0  0  0  0  ...   \n",
              "3                        ArefRuqaa-Bold       3  0  0  0  0  0  0  0  0  ...   \n",
              "4                     KulimPark-Regular       1  0  0  0  0  0  0  0  0  ...   \n",
              "...                                 ...     ... .. .. .. .. .. .. .. ..  ...   \n",
              "29895                     Raleway[wght]       7  0  0  0  0  0  0  0  0  ...   \n",
              "29896                     Charm-Regular       5  0  0  0  0  0  0  0  0  ...   \n",
              "29897  BigShouldersStencilDisplay-Black       0  0  0  0  0  0  0  0  0  ...   \n",
              "29898                  Gabriela-Regular       1  0  0  0  0  0  0  0  0  ...   \n",
              "29899                       Ovo-Regular       6  0  0  0  0  0  0  0  0  ...   \n",
              "\n",
              "       775  776  777  778  779  780  781  782  783  784  \n",
              "0        0    0    0    0    0    0    0    0    0    0  \n",
              "1        0    0    0    0    0    0    0    0    0    0  \n",
              "2        0    0    0    0    0    0    0    0    0    0  \n",
              "3        0    0    0    0    0    0    0    0    0    0  \n",
              "4        0    0    0    0    0    0    0    0    0    0  \n",
              "...    ...  ...  ...  ...  ...  ...  ...  ...  ...  ...  \n",
              "29895    0    0    0    0    0    0    0    0    0    0  \n",
              "29896    0    0    0    0    0    0    0    0    0    0  \n",
              "29897    0    0    0    0    0    0    0    0    0    0  \n",
              "29898    0    0    0    0    0    0    0    0    0    0  \n",
              "29899    0    0    0    0    0    0    0    0    0    0  \n",
              "\n",
              "[29900 rows x 786 columns]"
            ],
            "text/html": [
              "\n",
              "  <div id=\"df-9c387fa5-5774-4fc2-8270-a39b09a7c1a5\" class=\"colab-df-container\">\n",
              "    <div>\n",
              "<style scoped>\n",
              "    .dataframe tbody tr th:only-of-type {\n",
              "        vertical-align: middle;\n",
              "    }\n",
              "\n",
              "    .dataframe tbody tr th {\n",
              "        vertical-align: top;\n",
              "    }\n",
              "\n",
              "    .dataframe thead th {\n",
              "        text-align: right;\n",
              "    }\n",
              "</style>\n",
              "<table border=\"1\" class=\"dataframe\">\n",
              "  <thead>\n",
              "    <tr style=\"text-align: right;\">\n",
              "      <th></th>\n",
              "      <th>names</th>\n",
              "      <th>labels</th>\n",
              "      <th>1</th>\n",
              "      <th>2</th>\n",
              "      <th>3</th>\n",
              "      <th>4</th>\n",
              "      <th>5</th>\n",
              "      <th>6</th>\n",
              "      <th>7</th>\n",
              "      <th>8</th>\n",
              "      <th>...</th>\n",
              "      <th>775</th>\n",
              "      <th>776</th>\n",
              "      <th>777</th>\n",
              "      <th>778</th>\n",
              "      <th>779</th>\n",
              "      <th>780</th>\n",
              "      <th>781</th>\n",
              "      <th>782</th>\n",
              "      <th>783</th>\n",
              "      <th>784</th>\n",
              "    </tr>\n",
              "  </thead>\n",
              "  <tbody>\n",
              "    <tr>\n",
              "      <th>0</th>\n",
              "      <td>GrandHotel-Regular</td>\n",
              "      <td>2</td>\n",
              "      <td>0</td>\n",
              "      <td>0</td>\n",
              "      <td>0</td>\n",
              "      <td>0</td>\n",
              "      <td>0</td>\n",
              "      <td>0</td>\n",
              "      <td>0</td>\n",
              "      <td>0</td>\n",
              "      <td>...</td>\n",
              "      <td>0</td>\n",
              "      <td>0</td>\n",
              "      <td>0</td>\n",
              "      <td>0</td>\n",
              "      <td>0</td>\n",
              "      <td>0</td>\n",
              "      <td>0</td>\n",
              "      <td>0</td>\n",
              "      <td>0</td>\n",
              "      <td>0</td>\n",
              "    </tr>\n",
              "    <tr>\n",
              "      <th>1</th>\n",
              "      <td>EncodeSansCondensed-Medium</td>\n",
              "      <td>8</td>\n",
              "      <td>0</td>\n",
              "      <td>0</td>\n",
              "      <td>0</td>\n",
              "      <td>0</td>\n",
              "      <td>0</td>\n",
              "      <td>0</td>\n",
              "      <td>0</td>\n",
              "      <td>0</td>\n",
              "      <td>...</td>\n",
              "      <td>0</td>\n",
              "      <td>0</td>\n",
              "      <td>0</td>\n",
              "      <td>0</td>\n",
              "      <td>0</td>\n",
              "      <td>0</td>\n",
              "      <td>0</td>\n",
              "      <td>0</td>\n",
              "      <td>0</td>\n",
              "      <td>0</td>\n",
              "    </tr>\n",
              "    <tr>\n",
              "      <th>2</th>\n",
              "      <td>Varela-Regular</td>\n",
              "      <td>4</td>\n",
              "      <td>0</td>\n",
              "      <td>0</td>\n",
              "      <td>0</td>\n",
              "      <td>0</td>\n",
              "      <td>0</td>\n",
              "      <td>0</td>\n",
              "      <td>0</td>\n",
              "      <td>0</td>\n",
              "      <td>...</td>\n",
              "      <td>0</td>\n",
              "      <td>0</td>\n",
              "      <td>0</td>\n",
              "      <td>0</td>\n",
              "      <td>0</td>\n",
              "      <td>0</td>\n",
              "      <td>0</td>\n",
              "      <td>0</td>\n",
              "      <td>0</td>\n",
              "      <td>0</td>\n",
              "    </tr>\n",
              "    <tr>\n",
              "      <th>3</th>\n",
              "      <td>ArefRuqaa-Bold</td>\n",
              "      <td>3</td>\n",
              "      <td>0</td>\n",
              "      <td>0</td>\n",
              "      <td>0</td>\n",
              "      <td>0</td>\n",
              "      <td>0</td>\n",
              "      <td>0</td>\n",
              "      <td>0</td>\n",
              "      <td>0</td>\n",
              "      <td>...</td>\n",
              "      <td>0</td>\n",
              "      <td>0</td>\n",
              "      <td>0</td>\n",
              "      <td>0</td>\n",
              "      <td>0</td>\n",
              "      <td>0</td>\n",
              "      <td>0</td>\n",
              "      <td>0</td>\n",
              "      <td>0</td>\n",
              "      <td>0</td>\n",
              "    </tr>\n",
              "    <tr>\n",
              "      <th>4</th>\n",
              "      <td>KulimPark-Regular</td>\n",
              "      <td>1</td>\n",
              "      <td>0</td>\n",
              "      <td>0</td>\n",
              "      <td>0</td>\n",
              "      <td>0</td>\n",
              "      <td>0</td>\n",
              "      <td>0</td>\n",
              "      <td>0</td>\n",
              "      <td>0</td>\n",
              "      <td>...</td>\n",
              "      <td>0</td>\n",
              "      <td>0</td>\n",
              "      <td>0</td>\n",
              "      <td>0</td>\n",
              "      <td>0</td>\n",
              "      <td>0</td>\n",
              "      <td>0</td>\n",
              "      <td>0</td>\n",
              "      <td>0</td>\n",
              "      <td>0</td>\n",
              "    </tr>\n",
              "    <tr>\n",
              "      <th>...</th>\n",
              "      <td>...</td>\n",
              "      <td>...</td>\n",
              "      <td>...</td>\n",
              "      <td>...</td>\n",
              "      <td>...</td>\n",
              "      <td>...</td>\n",
              "      <td>...</td>\n",
              "      <td>...</td>\n",
              "      <td>...</td>\n",
              "      <td>...</td>\n",
              "      <td>...</td>\n",
              "      <td>...</td>\n",
              "      <td>...</td>\n",
              "      <td>...</td>\n",
              "      <td>...</td>\n",
              "      <td>...</td>\n",
              "      <td>...</td>\n",
              "      <td>...</td>\n",
              "      <td>...</td>\n",
              "      <td>...</td>\n",
              "      <td>...</td>\n",
              "    </tr>\n",
              "    <tr>\n",
              "      <th>29895</th>\n",
              "      <td>Raleway[wght]</td>\n",
              "      <td>7</td>\n",
              "      <td>0</td>\n",
              "      <td>0</td>\n",
              "      <td>0</td>\n",
              "      <td>0</td>\n",
              "      <td>0</td>\n",
              "      <td>0</td>\n",
              "      <td>0</td>\n",
              "      <td>0</td>\n",
              "      <td>...</td>\n",
              "      <td>0</td>\n",
              "      <td>0</td>\n",
              "      <td>0</td>\n",
              "      <td>0</td>\n",
              "      <td>0</td>\n",
              "      <td>0</td>\n",
              "      <td>0</td>\n",
              "      <td>0</td>\n",
              "      <td>0</td>\n",
              "      <td>0</td>\n",
              "    </tr>\n",
              "    <tr>\n",
              "      <th>29896</th>\n",
              "      <td>Charm-Regular</td>\n",
              "      <td>5</td>\n",
              "      <td>0</td>\n",
              "      <td>0</td>\n",
              "      <td>0</td>\n",
              "      <td>0</td>\n",
              "      <td>0</td>\n",
              "      <td>0</td>\n",
              "      <td>0</td>\n",
              "      <td>0</td>\n",
              "      <td>...</td>\n",
              "      <td>0</td>\n",
              "      <td>0</td>\n",
              "      <td>0</td>\n",
              "      <td>0</td>\n",
              "      <td>0</td>\n",
              "      <td>0</td>\n",
              "      <td>0</td>\n",
              "      <td>0</td>\n",
              "      <td>0</td>\n",
              "      <td>0</td>\n",
              "    </tr>\n",
              "    <tr>\n",
              "      <th>29897</th>\n",
              "      <td>BigShouldersStencilDisplay-Black</td>\n",
              "      <td>0</td>\n",
              "      <td>0</td>\n",
              "      <td>0</td>\n",
              "      <td>0</td>\n",
              "      <td>0</td>\n",
              "      <td>0</td>\n",
              "      <td>0</td>\n",
              "      <td>0</td>\n",
              "      <td>0</td>\n",
              "      <td>...</td>\n",
              "      <td>0</td>\n",
              "      <td>0</td>\n",
              "      <td>0</td>\n",
              "      <td>0</td>\n",
              "      <td>0</td>\n",
              "      <td>0</td>\n",
              "      <td>0</td>\n",
              "      <td>0</td>\n",
              "      <td>0</td>\n",
              "      <td>0</td>\n",
              "    </tr>\n",
              "    <tr>\n",
              "      <th>29898</th>\n",
              "      <td>Gabriela-Regular</td>\n",
              "      <td>1</td>\n",
              "      <td>0</td>\n",
              "      <td>0</td>\n",
              "      <td>0</td>\n",
              "      <td>0</td>\n",
              "      <td>0</td>\n",
              "      <td>0</td>\n",
              "      <td>0</td>\n",
              "      <td>0</td>\n",
              "      <td>...</td>\n",
              "      <td>0</td>\n",
              "      <td>0</td>\n",
              "      <td>0</td>\n",
              "      <td>0</td>\n",
              "      <td>0</td>\n",
              "      <td>0</td>\n",
              "      <td>0</td>\n",
              "      <td>0</td>\n",
              "      <td>0</td>\n",
              "      <td>0</td>\n",
              "    </tr>\n",
              "    <tr>\n",
              "      <th>29899</th>\n",
              "      <td>Ovo-Regular</td>\n",
              "      <td>6</td>\n",
              "      <td>0</td>\n",
              "      <td>0</td>\n",
              "      <td>0</td>\n",
              "      <td>0</td>\n",
              "      <td>0</td>\n",
              "      <td>0</td>\n",
              "      <td>0</td>\n",
              "      <td>0</td>\n",
              "      <td>...</td>\n",
              "      <td>0</td>\n",
              "      <td>0</td>\n",
              "      <td>0</td>\n",
              "      <td>0</td>\n",
              "      <td>0</td>\n",
              "      <td>0</td>\n",
              "      <td>0</td>\n",
              "      <td>0</td>\n",
              "      <td>0</td>\n",
              "      <td>0</td>\n",
              "    </tr>\n",
              "  </tbody>\n",
              "</table>\n",
              "<p>29900 rows × 786 columns</p>\n",
              "</div>\n",
              "    <div class=\"colab-df-buttons\">\n",
              "\n",
              "  <div class=\"colab-df-container\">\n",
              "    <button class=\"colab-df-convert\" onclick=\"convertToInteractive('df-9c387fa5-5774-4fc2-8270-a39b09a7c1a5')\"\n",
              "            title=\"Convert this dataframe to an interactive table.\"\n",
              "            style=\"display:none;\">\n",
              "\n",
              "  <svg xmlns=\"http://www.w3.org/2000/svg\" height=\"24px\" viewBox=\"0 -960 960 960\">\n",
              "    <path d=\"M120-120v-720h720v720H120Zm60-500h600v-160H180v160Zm220 220h160v-160H400v160Zm0 220h160v-160H400v160ZM180-400h160v-160H180v160Zm440 0h160v-160H620v160ZM180-180h160v-160H180v160Zm440 0h160v-160H620v160Z\"/>\n",
              "  </svg>\n",
              "    </button>\n",
              "\n",
              "  <style>\n",
              "    .colab-df-container {\n",
              "      display:flex;\n",
              "      gap: 12px;\n",
              "    }\n",
              "\n",
              "    .colab-df-convert {\n",
              "      background-color: #E8F0FE;\n",
              "      border: none;\n",
              "      border-radius: 50%;\n",
              "      cursor: pointer;\n",
              "      display: none;\n",
              "      fill: #1967D2;\n",
              "      height: 32px;\n",
              "      padding: 0 0 0 0;\n",
              "      width: 32px;\n",
              "    }\n",
              "\n",
              "    .colab-df-convert:hover {\n",
              "      background-color: #E2EBFA;\n",
              "      box-shadow: 0px 1px 2px rgba(60, 64, 67, 0.3), 0px 1px 3px 1px rgba(60, 64, 67, 0.15);\n",
              "      fill: #174EA6;\n",
              "    }\n",
              "\n",
              "    .colab-df-buttons div {\n",
              "      margin-bottom: 4px;\n",
              "    }\n",
              "\n",
              "    [theme=dark] .colab-df-convert {\n",
              "      background-color: #3B4455;\n",
              "      fill: #D2E3FC;\n",
              "    }\n",
              "\n",
              "    [theme=dark] .colab-df-convert:hover {\n",
              "      background-color: #434B5C;\n",
              "      box-shadow: 0px 1px 3px 1px rgba(0, 0, 0, 0.15);\n",
              "      filter: drop-shadow(0px 1px 2px rgba(0, 0, 0, 0.3));\n",
              "      fill: #FFFFFF;\n",
              "    }\n",
              "  </style>\n",
              "\n",
              "    <script>\n",
              "      const buttonEl =\n",
              "        document.querySelector('#df-9c387fa5-5774-4fc2-8270-a39b09a7c1a5 button.colab-df-convert');\n",
              "      buttonEl.style.display =\n",
              "        google.colab.kernel.accessAllowed ? 'block' : 'none';\n",
              "\n",
              "      async function convertToInteractive(key) {\n",
              "        const element = document.querySelector('#df-9c387fa5-5774-4fc2-8270-a39b09a7c1a5');\n",
              "        const dataTable =\n",
              "          await google.colab.kernel.invokeFunction('convertToInteractive',\n",
              "                                                    [key], {});\n",
              "        if (!dataTable) return;\n",
              "\n",
              "        const docLinkHtml = 'Like what you see? Visit the ' +\n",
              "          '<a target=\"_blank\" href=https://colab.research.google.com/notebooks/data_table.ipynb>data table notebook</a>'\n",
              "          + ' to learn more about interactive tables.';\n",
              "        element.innerHTML = '';\n",
              "        dataTable['output_type'] = 'display_data';\n",
              "        await google.colab.output.renderOutput(dataTable, element);\n",
              "        const docLink = document.createElement('div');\n",
              "        docLink.innerHTML = docLinkHtml;\n",
              "        element.appendChild(docLink);\n",
              "      }\n",
              "    </script>\n",
              "  </div>\n",
              "\n",
              "\n",
              "<div id=\"df-9701cfb6-8da1-4fe6-a429-885c8a08201f\">\n",
              "  <button class=\"colab-df-quickchart\" onclick=\"quickchart('df-9701cfb6-8da1-4fe6-a429-885c8a08201f')\"\n",
              "            title=\"Suggest charts\"\n",
              "            style=\"display:none;\">\n",
              "\n",
              "<svg xmlns=\"http://www.w3.org/2000/svg\" height=\"24px\"viewBox=\"0 0 24 24\"\n",
              "     width=\"24px\">\n",
              "    <g>\n",
              "        <path d=\"M19 3H5c-1.1 0-2 .9-2 2v14c0 1.1.9 2 2 2h14c1.1 0 2-.9 2-2V5c0-1.1-.9-2-2-2zM9 17H7v-7h2v7zm4 0h-2V7h2v10zm4 0h-2v-4h2v4z\"/>\n",
              "    </g>\n",
              "</svg>\n",
              "  </button>\n",
              "\n",
              "<style>\n",
              "  .colab-df-quickchart {\n",
              "      --bg-color: #E8F0FE;\n",
              "      --fill-color: #1967D2;\n",
              "      --hover-bg-color: #E2EBFA;\n",
              "      --hover-fill-color: #174EA6;\n",
              "      --disabled-fill-color: #AAA;\n",
              "      --disabled-bg-color: #DDD;\n",
              "  }\n",
              "\n",
              "  [theme=dark] .colab-df-quickchart {\n",
              "      --bg-color: #3B4455;\n",
              "      --fill-color: #D2E3FC;\n",
              "      --hover-bg-color: #434B5C;\n",
              "      --hover-fill-color: #FFFFFF;\n",
              "      --disabled-bg-color: #3B4455;\n",
              "      --disabled-fill-color: #666;\n",
              "  }\n",
              "\n",
              "  .colab-df-quickchart {\n",
              "    background-color: var(--bg-color);\n",
              "    border: none;\n",
              "    border-radius: 50%;\n",
              "    cursor: pointer;\n",
              "    display: none;\n",
              "    fill: var(--fill-color);\n",
              "    height: 32px;\n",
              "    padding: 0;\n",
              "    width: 32px;\n",
              "  }\n",
              "\n",
              "  .colab-df-quickchart:hover {\n",
              "    background-color: var(--hover-bg-color);\n",
              "    box-shadow: 0 1px 2px rgba(60, 64, 67, 0.3), 0 1px 3px 1px rgba(60, 64, 67, 0.15);\n",
              "    fill: var(--button-hover-fill-color);\n",
              "  }\n",
              "\n",
              "  .colab-df-quickchart-complete:disabled,\n",
              "  .colab-df-quickchart-complete:disabled:hover {\n",
              "    background-color: var(--disabled-bg-color);\n",
              "    fill: var(--disabled-fill-color);\n",
              "    box-shadow: none;\n",
              "  }\n",
              "\n",
              "  .colab-df-spinner {\n",
              "    border: 2px solid var(--fill-color);\n",
              "    border-color: transparent;\n",
              "    border-bottom-color: var(--fill-color);\n",
              "    animation:\n",
              "      spin 1s steps(1) infinite;\n",
              "  }\n",
              "\n",
              "  @keyframes spin {\n",
              "    0% {\n",
              "      border-color: transparent;\n",
              "      border-bottom-color: var(--fill-color);\n",
              "      border-left-color: var(--fill-color);\n",
              "    }\n",
              "    20% {\n",
              "      border-color: transparent;\n",
              "      border-left-color: var(--fill-color);\n",
              "      border-top-color: var(--fill-color);\n",
              "    }\n",
              "    30% {\n",
              "      border-color: transparent;\n",
              "      border-left-color: var(--fill-color);\n",
              "      border-top-color: var(--fill-color);\n",
              "      border-right-color: var(--fill-color);\n",
              "    }\n",
              "    40% {\n",
              "      border-color: transparent;\n",
              "      border-right-color: var(--fill-color);\n",
              "      border-top-color: var(--fill-color);\n",
              "    }\n",
              "    60% {\n",
              "      border-color: transparent;\n",
              "      border-right-color: var(--fill-color);\n",
              "    }\n",
              "    80% {\n",
              "      border-color: transparent;\n",
              "      border-right-color: var(--fill-color);\n",
              "      border-bottom-color: var(--fill-color);\n",
              "    }\n",
              "    90% {\n",
              "      border-color: transparent;\n",
              "      border-bottom-color: var(--fill-color);\n",
              "    }\n",
              "  }\n",
              "</style>\n",
              "\n",
              "  <script>\n",
              "    async function quickchart(key) {\n",
              "      const quickchartButtonEl =\n",
              "        document.querySelector('#' + key + ' button');\n",
              "      quickchartButtonEl.disabled = true;  // To prevent multiple clicks.\n",
              "      quickchartButtonEl.classList.add('colab-df-spinner');\n",
              "      try {\n",
              "        const charts = await google.colab.kernel.invokeFunction(\n",
              "            'suggestCharts', [key], {});\n",
              "      } catch (error) {\n",
              "        console.error('Error during call to suggestCharts:', error);\n",
              "      }\n",
              "      quickchartButtonEl.classList.remove('colab-df-spinner');\n",
              "      quickchartButtonEl.classList.add('colab-df-quickchart-complete');\n",
              "    }\n",
              "    (() => {\n",
              "      let quickchartButtonEl =\n",
              "        document.querySelector('#df-9701cfb6-8da1-4fe6-a429-885c8a08201f button');\n",
              "      quickchartButtonEl.style.display =\n",
              "        google.colab.kernel.accessAllowed ? 'block' : 'none';\n",
              "    })();\n",
              "  </script>\n",
              "</div>\n",
              "    </div>\n",
              "  </div>\n"
            ]
          },
          "metadata": {},
          "execution_count": 2
        }
      ]
    },
    {
      "cell_type": "code",
      "source": [
        "df.head()"
      ],
      "metadata": {
        "colab": {
          "base_uri": "https://localhost:8080/",
          "height": 236
        },
        "id": "0iSzsk3WwHjN",
        "outputId": "7cc7c292-0c66-43af-bc70-948a7bf3dc6e"
      },
      "execution_count": 3,
      "outputs": [
        {
          "output_type": "execute_result",
          "data": {
            "text/plain": [
              "                        names  labels  1  2  3  4  5  6  7  8  ...  775  776  \\\n",
              "0          GrandHotel-Regular       2  0  0  0  0  0  0  0  0  ...    0    0   \n",
              "1  EncodeSansCondensed-Medium       8  0  0  0  0  0  0  0  0  ...    0    0   \n",
              "2              Varela-Regular       4  0  0  0  0  0  0  0  0  ...    0    0   \n",
              "3              ArefRuqaa-Bold       3  0  0  0  0  0  0  0  0  ...    0    0   \n",
              "4           KulimPark-Regular       1  0  0  0  0  0  0  0  0  ...    0    0   \n",
              "\n",
              "   777  778  779  780  781  782  783  784  \n",
              "0    0    0    0    0    0    0    0    0  \n",
              "1    0    0    0    0    0    0    0    0  \n",
              "2    0    0    0    0    0    0    0    0  \n",
              "3    0    0    0    0    0    0    0    0  \n",
              "4    0    0    0    0    0    0    0    0  \n",
              "\n",
              "[5 rows x 786 columns]"
            ],
            "text/html": [
              "\n",
              "  <div id=\"df-6daa4e21-6c6e-4965-9f1c-8a87ab38c7c8\" class=\"colab-df-container\">\n",
              "    <div>\n",
              "<style scoped>\n",
              "    .dataframe tbody tr th:only-of-type {\n",
              "        vertical-align: middle;\n",
              "    }\n",
              "\n",
              "    .dataframe tbody tr th {\n",
              "        vertical-align: top;\n",
              "    }\n",
              "\n",
              "    .dataframe thead th {\n",
              "        text-align: right;\n",
              "    }\n",
              "</style>\n",
              "<table border=\"1\" class=\"dataframe\">\n",
              "  <thead>\n",
              "    <tr style=\"text-align: right;\">\n",
              "      <th></th>\n",
              "      <th>names</th>\n",
              "      <th>labels</th>\n",
              "      <th>1</th>\n",
              "      <th>2</th>\n",
              "      <th>3</th>\n",
              "      <th>4</th>\n",
              "      <th>5</th>\n",
              "      <th>6</th>\n",
              "      <th>7</th>\n",
              "      <th>8</th>\n",
              "      <th>...</th>\n",
              "      <th>775</th>\n",
              "      <th>776</th>\n",
              "      <th>777</th>\n",
              "      <th>778</th>\n",
              "      <th>779</th>\n",
              "      <th>780</th>\n",
              "      <th>781</th>\n",
              "      <th>782</th>\n",
              "      <th>783</th>\n",
              "      <th>784</th>\n",
              "    </tr>\n",
              "  </thead>\n",
              "  <tbody>\n",
              "    <tr>\n",
              "      <th>0</th>\n",
              "      <td>GrandHotel-Regular</td>\n",
              "      <td>2</td>\n",
              "      <td>0</td>\n",
              "      <td>0</td>\n",
              "      <td>0</td>\n",
              "      <td>0</td>\n",
              "      <td>0</td>\n",
              "      <td>0</td>\n",
              "      <td>0</td>\n",
              "      <td>0</td>\n",
              "      <td>...</td>\n",
              "      <td>0</td>\n",
              "      <td>0</td>\n",
              "      <td>0</td>\n",
              "      <td>0</td>\n",
              "      <td>0</td>\n",
              "      <td>0</td>\n",
              "      <td>0</td>\n",
              "      <td>0</td>\n",
              "      <td>0</td>\n",
              "      <td>0</td>\n",
              "    </tr>\n",
              "    <tr>\n",
              "      <th>1</th>\n",
              "      <td>EncodeSansCondensed-Medium</td>\n",
              "      <td>8</td>\n",
              "      <td>0</td>\n",
              "      <td>0</td>\n",
              "      <td>0</td>\n",
              "      <td>0</td>\n",
              "      <td>0</td>\n",
              "      <td>0</td>\n",
              "      <td>0</td>\n",
              "      <td>0</td>\n",
              "      <td>...</td>\n",
              "      <td>0</td>\n",
              "      <td>0</td>\n",
              "      <td>0</td>\n",
              "      <td>0</td>\n",
              "      <td>0</td>\n",
              "      <td>0</td>\n",
              "      <td>0</td>\n",
              "      <td>0</td>\n",
              "      <td>0</td>\n",
              "      <td>0</td>\n",
              "    </tr>\n",
              "    <tr>\n",
              "      <th>2</th>\n",
              "      <td>Varela-Regular</td>\n",
              "      <td>4</td>\n",
              "      <td>0</td>\n",
              "      <td>0</td>\n",
              "      <td>0</td>\n",
              "      <td>0</td>\n",
              "      <td>0</td>\n",
              "      <td>0</td>\n",
              "      <td>0</td>\n",
              "      <td>0</td>\n",
              "      <td>...</td>\n",
              "      <td>0</td>\n",
              "      <td>0</td>\n",
              "      <td>0</td>\n",
              "      <td>0</td>\n",
              "      <td>0</td>\n",
              "      <td>0</td>\n",
              "      <td>0</td>\n",
              "      <td>0</td>\n",
              "      <td>0</td>\n",
              "      <td>0</td>\n",
              "    </tr>\n",
              "    <tr>\n",
              "      <th>3</th>\n",
              "      <td>ArefRuqaa-Bold</td>\n",
              "      <td>3</td>\n",
              "      <td>0</td>\n",
              "      <td>0</td>\n",
              "      <td>0</td>\n",
              "      <td>0</td>\n",
              "      <td>0</td>\n",
              "      <td>0</td>\n",
              "      <td>0</td>\n",
              "      <td>0</td>\n",
              "      <td>...</td>\n",
              "      <td>0</td>\n",
              "      <td>0</td>\n",
              "      <td>0</td>\n",
              "      <td>0</td>\n",
              "      <td>0</td>\n",
              "      <td>0</td>\n",
              "      <td>0</td>\n",
              "      <td>0</td>\n",
              "      <td>0</td>\n",
              "      <td>0</td>\n",
              "    </tr>\n",
              "    <tr>\n",
              "      <th>4</th>\n",
              "      <td>KulimPark-Regular</td>\n",
              "      <td>1</td>\n",
              "      <td>0</td>\n",
              "      <td>0</td>\n",
              "      <td>0</td>\n",
              "      <td>0</td>\n",
              "      <td>0</td>\n",
              "      <td>0</td>\n",
              "      <td>0</td>\n",
              "      <td>0</td>\n",
              "      <td>...</td>\n",
              "      <td>0</td>\n",
              "      <td>0</td>\n",
              "      <td>0</td>\n",
              "      <td>0</td>\n",
              "      <td>0</td>\n",
              "      <td>0</td>\n",
              "      <td>0</td>\n",
              "      <td>0</td>\n",
              "      <td>0</td>\n",
              "      <td>0</td>\n",
              "    </tr>\n",
              "  </tbody>\n",
              "</table>\n",
              "<p>5 rows × 786 columns</p>\n",
              "</div>\n",
              "    <div class=\"colab-df-buttons\">\n",
              "\n",
              "  <div class=\"colab-df-container\">\n",
              "    <button class=\"colab-df-convert\" onclick=\"convertToInteractive('df-6daa4e21-6c6e-4965-9f1c-8a87ab38c7c8')\"\n",
              "            title=\"Convert this dataframe to an interactive table.\"\n",
              "            style=\"display:none;\">\n",
              "\n",
              "  <svg xmlns=\"http://www.w3.org/2000/svg\" height=\"24px\" viewBox=\"0 -960 960 960\">\n",
              "    <path d=\"M120-120v-720h720v720H120Zm60-500h600v-160H180v160Zm220 220h160v-160H400v160Zm0 220h160v-160H400v160ZM180-400h160v-160H180v160Zm440 0h160v-160H620v160ZM180-180h160v-160H180v160Zm440 0h160v-160H620v160Z\"/>\n",
              "  </svg>\n",
              "    </button>\n",
              "\n",
              "  <style>\n",
              "    .colab-df-container {\n",
              "      display:flex;\n",
              "      gap: 12px;\n",
              "    }\n",
              "\n",
              "    .colab-df-convert {\n",
              "      background-color: #E8F0FE;\n",
              "      border: none;\n",
              "      border-radius: 50%;\n",
              "      cursor: pointer;\n",
              "      display: none;\n",
              "      fill: #1967D2;\n",
              "      height: 32px;\n",
              "      padding: 0 0 0 0;\n",
              "      width: 32px;\n",
              "    }\n",
              "\n",
              "    .colab-df-convert:hover {\n",
              "      background-color: #E2EBFA;\n",
              "      box-shadow: 0px 1px 2px rgba(60, 64, 67, 0.3), 0px 1px 3px 1px rgba(60, 64, 67, 0.15);\n",
              "      fill: #174EA6;\n",
              "    }\n",
              "\n",
              "    .colab-df-buttons div {\n",
              "      margin-bottom: 4px;\n",
              "    }\n",
              "\n",
              "    [theme=dark] .colab-df-convert {\n",
              "      background-color: #3B4455;\n",
              "      fill: #D2E3FC;\n",
              "    }\n",
              "\n",
              "    [theme=dark] .colab-df-convert:hover {\n",
              "      background-color: #434B5C;\n",
              "      box-shadow: 0px 1px 3px 1px rgba(0, 0, 0, 0.15);\n",
              "      filter: drop-shadow(0px 1px 2px rgba(0, 0, 0, 0.3));\n",
              "      fill: #FFFFFF;\n",
              "    }\n",
              "  </style>\n",
              "\n",
              "    <script>\n",
              "      const buttonEl =\n",
              "        document.querySelector('#df-6daa4e21-6c6e-4965-9f1c-8a87ab38c7c8 button.colab-df-convert');\n",
              "      buttonEl.style.display =\n",
              "        google.colab.kernel.accessAllowed ? 'block' : 'none';\n",
              "\n",
              "      async function convertToInteractive(key) {\n",
              "        const element = document.querySelector('#df-6daa4e21-6c6e-4965-9f1c-8a87ab38c7c8');\n",
              "        const dataTable =\n",
              "          await google.colab.kernel.invokeFunction('convertToInteractive',\n",
              "                                                    [key], {});\n",
              "        if (!dataTable) return;\n",
              "\n",
              "        const docLinkHtml = 'Like what you see? Visit the ' +\n",
              "          '<a target=\"_blank\" href=https://colab.research.google.com/notebooks/data_table.ipynb>data table notebook</a>'\n",
              "          + ' to learn more about interactive tables.';\n",
              "        element.innerHTML = '';\n",
              "        dataTable['output_type'] = 'display_data';\n",
              "        await google.colab.output.renderOutput(dataTable, element);\n",
              "        const docLink = document.createElement('div');\n",
              "        docLink.innerHTML = docLinkHtml;\n",
              "        element.appendChild(docLink);\n",
              "      }\n",
              "    </script>\n",
              "  </div>\n",
              "\n",
              "\n",
              "<div id=\"df-68bfb506-a74f-41a4-8c8d-cab60dd321f9\">\n",
              "  <button class=\"colab-df-quickchart\" onclick=\"quickchart('df-68bfb506-a74f-41a4-8c8d-cab60dd321f9')\"\n",
              "            title=\"Suggest charts\"\n",
              "            style=\"display:none;\">\n",
              "\n",
              "<svg xmlns=\"http://www.w3.org/2000/svg\" height=\"24px\"viewBox=\"0 0 24 24\"\n",
              "     width=\"24px\">\n",
              "    <g>\n",
              "        <path d=\"M19 3H5c-1.1 0-2 .9-2 2v14c0 1.1.9 2 2 2h14c1.1 0 2-.9 2-2V5c0-1.1-.9-2-2-2zM9 17H7v-7h2v7zm4 0h-2V7h2v10zm4 0h-2v-4h2v4z\"/>\n",
              "    </g>\n",
              "</svg>\n",
              "  </button>\n",
              "\n",
              "<style>\n",
              "  .colab-df-quickchart {\n",
              "      --bg-color: #E8F0FE;\n",
              "      --fill-color: #1967D2;\n",
              "      --hover-bg-color: #E2EBFA;\n",
              "      --hover-fill-color: #174EA6;\n",
              "      --disabled-fill-color: #AAA;\n",
              "      --disabled-bg-color: #DDD;\n",
              "  }\n",
              "\n",
              "  [theme=dark] .colab-df-quickchart {\n",
              "      --bg-color: #3B4455;\n",
              "      --fill-color: #D2E3FC;\n",
              "      --hover-bg-color: #434B5C;\n",
              "      --hover-fill-color: #FFFFFF;\n",
              "      --disabled-bg-color: #3B4455;\n",
              "      --disabled-fill-color: #666;\n",
              "  }\n",
              "\n",
              "  .colab-df-quickchart {\n",
              "    background-color: var(--bg-color);\n",
              "    border: none;\n",
              "    border-radius: 50%;\n",
              "    cursor: pointer;\n",
              "    display: none;\n",
              "    fill: var(--fill-color);\n",
              "    height: 32px;\n",
              "    padding: 0;\n",
              "    width: 32px;\n",
              "  }\n",
              "\n",
              "  .colab-df-quickchart:hover {\n",
              "    background-color: var(--hover-bg-color);\n",
              "    box-shadow: 0 1px 2px rgba(60, 64, 67, 0.3), 0 1px 3px 1px rgba(60, 64, 67, 0.15);\n",
              "    fill: var(--button-hover-fill-color);\n",
              "  }\n",
              "\n",
              "  .colab-df-quickchart-complete:disabled,\n",
              "  .colab-df-quickchart-complete:disabled:hover {\n",
              "    background-color: var(--disabled-bg-color);\n",
              "    fill: var(--disabled-fill-color);\n",
              "    box-shadow: none;\n",
              "  }\n",
              "\n",
              "  .colab-df-spinner {\n",
              "    border: 2px solid var(--fill-color);\n",
              "    border-color: transparent;\n",
              "    border-bottom-color: var(--fill-color);\n",
              "    animation:\n",
              "      spin 1s steps(1) infinite;\n",
              "  }\n",
              "\n",
              "  @keyframes spin {\n",
              "    0% {\n",
              "      border-color: transparent;\n",
              "      border-bottom-color: var(--fill-color);\n",
              "      border-left-color: var(--fill-color);\n",
              "    }\n",
              "    20% {\n",
              "      border-color: transparent;\n",
              "      border-left-color: var(--fill-color);\n",
              "      border-top-color: var(--fill-color);\n",
              "    }\n",
              "    30% {\n",
              "      border-color: transparent;\n",
              "      border-left-color: var(--fill-color);\n",
              "      border-top-color: var(--fill-color);\n",
              "      border-right-color: var(--fill-color);\n",
              "    }\n",
              "    40% {\n",
              "      border-color: transparent;\n",
              "      border-right-color: var(--fill-color);\n",
              "      border-top-color: var(--fill-color);\n",
              "    }\n",
              "    60% {\n",
              "      border-color: transparent;\n",
              "      border-right-color: var(--fill-color);\n",
              "    }\n",
              "    80% {\n",
              "      border-color: transparent;\n",
              "      border-right-color: var(--fill-color);\n",
              "      border-bottom-color: var(--fill-color);\n",
              "    }\n",
              "    90% {\n",
              "      border-color: transparent;\n",
              "      border-bottom-color: var(--fill-color);\n",
              "    }\n",
              "  }\n",
              "</style>\n",
              "\n",
              "  <script>\n",
              "    async function quickchart(key) {\n",
              "      const quickchartButtonEl =\n",
              "        document.querySelector('#' + key + ' button');\n",
              "      quickchartButtonEl.disabled = true;  // To prevent multiple clicks.\n",
              "      quickchartButtonEl.classList.add('colab-df-spinner');\n",
              "      try {\n",
              "        const charts = await google.colab.kernel.invokeFunction(\n",
              "            'suggestCharts', [key], {});\n",
              "      } catch (error) {\n",
              "        console.error('Error during call to suggestCharts:', error);\n",
              "      }\n",
              "      quickchartButtonEl.classList.remove('colab-df-spinner');\n",
              "      quickchartButtonEl.classList.add('colab-df-quickchart-complete');\n",
              "    }\n",
              "    (() => {\n",
              "      let quickchartButtonEl =\n",
              "        document.querySelector('#df-68bfb506-a74f-41a4-8c8d-cab60dd321f9 button');\n",
              "      quickchartButtonEl.style.display =\n",
              "        google.colab.kernel.accessAllowed ? 'block' : 'none';\n",
              "    })();\n",
              "  </script>\n",
              "</div>\n",
              "    </div>\n",
              "  </div>\n"
            ]
          },
          "metadata": {},
          "execution_count": 3
        }
      ]
    },
    {
      "cell_type": "code",
      "source": [
        "print(df['labels'].unique())\n",
        "no_of_classes=df['labels'].nunique()\n",
        "print('Number of classes are',no_of_classes)\n",
        "\n"
      ],
      "metadata": {
        "colab": {
          "base_uri": "https://localhost:8080/"
        },
        "id": "1yTycLkYwR6z",
        "outputId": "09ac4b55-6e7e-42a1-d65c-463bbbf14c4a"
      },
      "execution_count": 4,
      "outputs": [
        {
          "output_type": "stream",
          "name": "stdout",
          "text": [
            "[2 8 4 3 1 6 5 9 7 0]\n",
            "Number of classes are 10\n"
          ]
        }
      ]
    },
    {
      "cell_type": "code",
      "source": [
        "# Get the number of rows and columns in the dataset\n",
        "print(\"Shape of the dataset:\", df.shape)"
      ],
      "metadata": {
        "colab": {
          "base_uri": "https://localhost:8080/"
        },
        "id": "mqfe8qaqbKGm",
        "outputId": "3530fba4-e70b-484f-da8f-472bb7d6ee44"
      },
      "execution_count": 5,
      "outputs": [
        {
          "output_type": "stream",
          "name": "stdout",
          "text": [
            "Shape of the dataset: (29900, 786)\n"
          ]
        }
      ]
    },
    {
      "cell_type": "code",
      "source": [
        "# Get the column names\n",
        "print(\"Column names:\", df.columns)\n",
        "\n",
        "# Get the number of unique values in the \"label\" column\n",
        "print(\"Number of unique labels:\", df['labels'].nunique())"
      ],
      "metadata": {
        "colab": {
          "base_uri": "https://localhost:8080/"
        },
        "id": "hly4y0GQbOsX",
        "outputId": "99dbbf6d-62b7-4f9b-8c36-4a66cfceca72"
      },
      "execution_count": 6,
      "outputs": [
        {
          "output_type": "stream",
          "name": "stdout",
          "text": [
            "Column names: Index(['names', 'labels', '1', '2', '3', '4', '5', '6', '7', '8',\n",
            "       ...\n",
            "       '775', '776', '777', '778', '779', '780', '781', '782', '783', '784'],\n",
            "      dtype='object', length=786)\n",
            "Number of unique labels: 10\n"
          ]
        }
      ]
    },
    {
      "cell_type": "markdown",
      "source": [
        "\n",
        "The dataset comprises 29,900 observations and 786 variables. The target variable, found in the \"labels\" column, exhibits 10 distinct values. The remaining columns, labeled from 1 to 784, presumably denote features or attributes associated with the observations. Notably, there are 10 unique labels, each with precisely 2,990 occurrences, suggesting a balanced dataset where each class is equally represented."
      ],
      "metadata": {
        "id": "_eaI4nKUbanv"
      }
    },
    {
      "cell_type": "markdown",
      "source": [
        "DROPPING THE LABEL COLUMNS"
      ],
      "metadata": {
        "id": "fjqgJ1HGwyPW"
      }
    },
    {
      "cell_type": "code",
      "source": [
        "X = df.drop(columns = {'names', 'labels'}, axis=1)\n",
        "y = df['labels']\n"
      ],
      "metadata": {
        "id": "05AGZ0K_fJe2"
      },
      "execution_count": 7,
      "outputs": []
    },
    {
      "cell_type": "markdown",
      "source": [
        "# SPLITTING DATASET"
      ],
      "metadata": {
        "id": "Isch5cgxxato"
      }
    },
    {
      "cell_type": "code",
      "source": [
        "# Split the data into training and testing sets\n",
        "from sklearn.model_selection import train_test_split\n",
        "\n",
        "X_train, X_test, y_train, y_test = train_test_split(X, y, test_size=0.2, random_state=42)\n",
        "\n",
        "# Scale the pixel values\n",
        "X_train = X_train / 255.0\n",
        "X_test = X_test / 255.0"
      ],
      "metadata": {
        "id": "jLpxW8_xfTWQ"
      },
      "execution_count": 8,
      "outputs": []
    },
    {
      "cell_type": "code",
      "source": [
        "print(X_train.shape, y_train.shape)"
      ],
      "metadata": {
        "colab": {
          "base_uri": "https://localhost:8080/"
        },
        "id": "LKYAbNm7fjEZ",
        "outputId": "b3d0bd8a-fabb-4d25-db51-e0edd6c55bd8"
      },
      "execution_count": 9,
      "outputs": [
        {
          "output_type": "stream",
          "name": "stdout",
          "text": [
            "(23920, 784) (23920,)\n"
          ]
        }
      ]
    },
    {
      "cell_type": "code",
      "source": [
        "#checking the distribution of train and test dataset\n",
        "\n",
        "plt.figure(figsize=(20, 10))\n",
        "plt.bar(y_train.unique(),y_train.value_counts(),color='#ADD8E6')\n",
        "plt.title('CLASS DISTRIBUTION IN TRAIN DATA')\n",
        "plt.xlabel('Classes')\n",
        "plt.ylabel('Count')"
      ],
      "metadata": {
        "id": "CDQDPc5uxwMj",
        "colab": {
          "base_uri": "https://localhost:8080/",
          "height": 889
        },
        "outputId": "86f7a0a5-ef0d-4383-9777-722a749d9a80"
      },
      "execution_count": 25,
      "outputs": [
        {
          "output_type": "execute_result",
          "data": {
            "text/plain": [
              "Text(0, 0.5, 'Count')"
            ]
          },
          "metadata": {},
          "execution_count": 25
        },
        {
          "output_type": "display_data",
          "data": {
            "text/plain": [
              "<Figure size 2000x1000 with 1 Axes>"
            ],
            "image/png": "[encoded data removed]"
          },
          "metadata": {}
        }
      ]
    },
    {
      "cell_type": "code",
      "source": [
        "plt.figure(figsize=(20, 10))\n",
        "plt.bar(y_test.unique(),y_test.value_counts(),color='#ADD8E6')\n",
        "plt.title('CLASS DISTRIBUTION IN TEST DATA')\n",
        "plt.xlabel('Classes')\n",
        "plt.ylabel('Count')"
      ],
      "metadata": {
        "colab": {
          "base_uri": "https://localhost:8080/",
          "height": 889
        },
        "id": "aIgKrOPwfqjx",
        "outputId": "27cb58a2-6087-4c16-f083-07c822b756ef"
      },
      "execution_count": 26,
      "outputs": [
        {
          "output_type": "execute_result",
          "data": {
            "text/plain": [
              "Text(0, 0.5, 'Count')"
            ]
          },
          "metadata": {},
          "execution_count": 26
        },
        {
          "output_type": "display_data",
          "data": {
            "text/plain": [
              "<Figure size 2000x1000 with 1 Axes>"
            ],
            "image/png": "[encoded data removed]"
          },
          "metadata": {}
        }
      ]
    },
    {
      "cell_type": "markdown",
      "source": [
        "X_train has 23920 samples, each with 784 features, and y_train has 23920 labels corresponding to the samples in X_train."
      ],
      "metadata": {
        "id": "1Ip2fl6-fyZS"
      }
    },
    {
      "cell_type": "markdown",
      "source": [
        "Further visualising a sample image from our processed data below:"
      ],
      "metadata": {
        "id": "E5rkJq62gaQg"
      }
    },
    {
      "cell_type": "code",
      "source": [
        "# Reshape a row of the data into a 28x28 image\n",
        "sample_image = X_train.iloc[1].values.reshape(28, 28)\n",
        "\n",
        "# Plot the image\n",
        "plt.imshow(sample_image, cmap='gray')\n",
        "plt.show()"
      ],
      "metadata": {
        "colab": {
          "base_uri": "https://localhost:8080/",
          "height": 430
        },
        "id": "HB6hVwxigYQ0",
        "outputId": "7fefb443-6069-4ebb-dd57-134e0ca0ea69"
      },
      "execution_count": 14,
      "outputs": [
        {
          "output_type": "display_data",
          "data": {
            "text/plain": [
              "<Figure size 640x480 with 1 Axes>"
            ],
            "image/png": "[encoded data removed]"
          },
          "metadata": {}
        }
      ]
    },
    {
      "cell_type": "markdown",
      "source": [
        "# CREATING A NEURAL NETWORK"
      ],
      "metadata": {
        "id": "9j2aMlCm5k-r"
      }
    },
    {
      "cell_type": "markdown",
      "source": [
        "We can create our neural network using the tensorflow library. We'll use a simple architecture consisting of two convolutional layers followed by two fully connected layers."
      ],
      "metadata": {
        "id": "E64CGvwK51sg"
      }
    },
    {
      "cell_type": "markdown",
      "source": [
        "\n",
        "**Convolutional Neural Network (CNN**) represents a neural network architecture extensively applied in tasks such as image recognition, classification, and segmentation. The structure of a CNN consists of various layers that sequentially process input data.\n",
        "\n",
        "\n",
        "**Input Layer**: Serving as the initial layer, the input layer receives the input data, such as an image.\n",
        "\n",
        "**Convolutional Layer**: This constitutes the core layer of a CNN, conducting a series of convolutional operations on the input image to extract pertinent features. Convolution involves sliding a small filter across the input image, calculating the dot product between the filter and corresponding input pixels, ultimately generating a new feature map.\n",
        "\n",
        "**Pooling Layer**: Following the convolutional layer, the pooling layer is employed to downsample feature maps, reducing the spatial dimensions of the output. Various pooling operations like MaxPooling, AveragePooling, and GlobalPooling are utilized to select the most significant features.\n",
        "\n",
        "**Dropout Layer**: Implemented to mitigate overfitting, the dropout layer randomly excludes some neurons in the network during training.\n",
        "\n",
        "**Activation Layer**: Applying a non-linear function to the output of the pooling layer, the activation layer enables the network to learn non-linear features and decision boundaries. Popular activation functions encompass ReLU, sigmoid, and tanh.\n",
        "\n",
        "**Fully-Connected Layer**: Serving as the concluding layer, the fully-connected layer classifies the input image based on the extracted features. The output of the last pooling layer is flattened into a 1D array and supplied to a fully-connected layer, utilizing a softmax function to predict class probabilities.\n",
        "\n",
        "**Output Layer**: Responsible for producing the final output of the network, the output layer can yield a classification or regression output depending on the task at hand.\n"
      ],
      "metadata": {
        "id": "VgmNo_tG6Iju"
      }
    },
    {
      "cell_type": "markdown",
      "source": [
        "# COMPILING AND TRAINING THE MODEL"
      ],
      "metadata": {
        "id": "NglfVB8hi_Bt"
      }
    },
    {
      "cell_type": "code",
      "source": [
        "# Define the model\n",
        "model = keras.Sequential([\n",
        "    keras.layers.Dense(128, input_shape=(784,), activation='relu'),\n",
        "    keras.layers.Dense(10, activation='softmax')\n",
        "])\n",
        "\n",
        "# Compile the model\n",
        "model.compile(optimizer='adam', loss='sparse_categorical_crossentropy', metrics=['accuracy'])"
      ],
      "metadata": {
        "id": "V0p28FmDiV5n"
      },
      "execution_count": 15,
      "outputs": []
    },
    {
      "cell_type": "markdown",
      "source": [
        "This code defines a machine learning model using the Keras library. The model is designed to take in 28x28 pixel images of handwritten digits, which are flattened into a 1D array of 784 numbers. The model has two layers of neurons, one with 128 neurons and the other with 10 neurons, and uses the 'relu' and 'softmax' activation functions respectively.\n",
        "\n",
        "The model is compiled using the Adam optimizer, which is a popular optimization algorithm for training neural networks. The loss function used to measure the model's performance during training is called 'sparse_categorical_crossentropy', which is a common choice for multi-class classification problems. The model is also set to track the 'accuracy' metric during training, which gives an indication of how well the model is able to predict the correct label for each image."
      ],
      "metadata": {
        "id": "BR34Rbc7irXv"
      }
    },
    {
      "cell_type": "markdown",
      "source": [
        "**TRAINING THE MODEL**"
      ],
      "metadata": {
        "id": "7lM57uXrjIjq"
      }
    },
    {
      "cell_type": "code",
      "source": [
        "# Train the model\n",
        "history = model.fit(X_train, y_train, epochs=20, validation_split=0.2)"
      ],
      "metadata": {
        "colab": {
          "base_uri": "https://localhost:8080/"
        },
        "id": "zqt2m2OXjDjC",
        "outputId": "c405b868-a46b-4231-b97e-29cec7caba54"
      },
      "execution_count": 20,
      "outputs": [
        {
          "output_type": "stream",
          "name": "stdout",
          "text": [
            "Epoch 1/20\n",
            "598/598 [==============================] - 3s 5ms/step - loss: 0.0208 - accuracy: 0.9955 - val_loss: 0.0743 - val_accuracy: 0.9829\n",
            "Epoch 2/20\n",
            "598/598 [==============================] - 4s 7ms/step - loss: 0.0190 - accuracy: 0.9952 - val_loss: 0.0762 - val_accuracy: 0.9818\n",
            "Epoch 3/20\n",
            "598/598 [==============================] - 6s 9ms/step - loss: 0.0169 - accuracy: 0.9962 - val_loss: 0.0765 - val_accuracy: 0.9824\n",
            "Epoch 4/20\n",
            "598/598 [==============================] - 3s 5ms/step - loss: 0.0154 - accuracy: 0.9966 - val_loss: 0.0870 - val_accuracy: 0.9799\n",
            "Epoch 5/20\n",
            "598/598 [==============================] - 3s 5ms/step - loss: 0.0140 - accuracy: 0.9962 - val_loss: 0.0821 - val_accuracy: 0.9814\n",
            "Epoch 6/20\n",
            "598/598 [==============================] - 3s 5ms/step - loss: 0.0096 - accuracy: 0.9983 - val_loss: 0.0807 - val_accuracy: 0.9824\n",
            "Epoch 7/20\n",
            "598/598 [==============================] - 4s 7ms/step - loss: 0.0118 - accuracy: 0.9971 - val_loss: 0.1018 - val_accuracy: 0.9799\n",
            "Epoch 8/20\n",
            "598/598 [==============================] - 4s 6ms/step - loss: 0.0097 - accuracy: 0.9975 - val_loss: 0.0816 - val_accuracy: 0.9824\n",
            "Epoch 9/20\n",
            "598/598 [==============================] - 3s 5ms/step - loss: 0.0085 - accuracy: 0.9981 - val_loss: 0.0844 - val_accuracy: 0.9837\n",
            "Epoch 10/20\n",
            "598/598 [==============================] - 3s 5ms/step - loss: 0.0133 - accuracy: 0.9965 - val_loss: 0.0999 - val_accuracy: 0.9797\n",
            "Epoch 11/20\n",
            "598/598 [==============================] - 3s 5ms/step - loss: 0.0081 - accuracy: 0.9979 - val_loss: 0.0848 - val_accuracy: 0.9831\n",
            "Epoch 12/20\n",
            "598/598 [==============================] - 4s 7ms/step - loss: 0.0067 - accuracy: 0.9983 - val_loss: 0.0923 - val_accuracy: 0.9816\n",
            "Epoch 13/20\n",
            "598/598 [==============================] - 3s 5ms/step - loss: 0.0052 - accuracy: 0.9988 - val_loss: 0.0915 - val_accuracy: 0.9835\n",
            "Epoch 14/20\n",
            "598/598 [==============================] - 3s 5ms/step - loss: 0.0049 - accuracy: 0.9993 - val_loss: 0.0926 - val_accuracy: 0.9833\n",
            "Epoch 15/20\n",
            "598/598 [==============================] - 3s 5ms/step - loss: 0.0084 - accuracy: 0.9978 - val_loss: 0.0949 - val_accuracy: 0.9818\n",
            "Epoch 16/20\n",
            "598/598 [==============================] - 4s 7ms/step - loss: 0.0071 - accuracy: 0.9985 - val_loss: 0.0923 - val_accuracy: 0.9824\n",
            "Epoch 17/20\n",
            "598/598 [==============================] - 3s 6ms/step - loss: 0.0053 - accuracy: 0.9989 - val_loss: 0.0918 - val_accuracy: 0.9837\n",
            "Epoch 18/20\n",
            "598/598 [==============================] - 3s 5ms/step - loss: 0.0045 - accuracy: 0.9988 - val_loss: 0.1042 - val_accuracy: 0.9820\n",
            "Epoch 19/20\n",
            "598/598 [==============================] - 3s 5ms/step - loss: 0.0064 - accuracy: 0.9984 - val_loss: 0.0930 - val_accuracy: 0.9820\n",
            "Epoch 20/20\n",
            "598/598 [==============================] - 3s 5ms/step - loss: 0.0047 - accuracy: 0.9993 - val_loss: 0.0863 - val_accuracy: 0.9829\n"
          ]
        }
      ]
    },
    {
      "cell_type": "markdown",
      "source": [
        "The output shows the training and validation accuracy and loss for a neural network model during each epoch of training. The model is trained for 10 epochs, with the training and validation accuracy gradually improving and the loss decreasing. The final validation accuracy is 98.29%."
      ],
      "metadata": {
        "id": "XdIKGv6PjdN-"
      }
    },
    {
      "cell_type": "markdown",
      "source": [
        "# MODEL EVALUATION"
      ],
      "metadata": {
        "id": "4qUopb_Cjjlp"
      }
    },
    {
      "cell_type": "code",
      "source": [
        "# Evaluate the model on the test data\n",
        "test_loss, test_acc = model.evaluate(X_test, y_test)\n",
        "\n",
        "print('Test accuracy:', test_acc)"
      ],
      "metadata": {
        "colab": {
          "base_uri": "https://localhost:8080/"
        },
        "id": "whsgXGhcjqTR",
        "outputId": "f36976fd-d341-485e-e108-972f5ce57a5f"
      },
      "execution_count": 21,
      "outputs": [
        {
          "output_type": "stream",
          "name": "stdout",
          "text": [
            "187/187 [==============================] - 1s 2ms/step - loss: 0.1067 - accuracy: 0.9851\n",
            "Test accuracy: 0.9851170778274536\n"
          ]
        }
      ]
    },
    {
      "cell_type": "markdown",
      "source": [
        "The final validation accuracy is ~98.5%\n",
        "\n",
        "\n"
      ],
      "metadata": {
        "id": "NLWr39T7jvSS"
      }
    },
    {
      "cell_type": "markdown",
      "source": [
        "**We can visualize the training and validation accuracy and loss over the epochs to see how the model performed.**"
      ],
      "metadata": {
        "id": "6fbGS5Shj2IY"
      }
    },
    {
      "cell_type": "code",
      "source": [
        "# Plot the training and validation accuracy over the epochs\n",
        "plt.plot(history.history['accuracy'])\n",
        "plt.plot(history.history['val_accuracy'])\n",
        "plt.title('Model accuracy')\n",
        "plt.ylabel('Accuracy')\n",
        "plt.xlabel('Epoch')\n",
        "plt.legend(['Train', 'Validation'], loc='upper left')\n",
        "plt.show()\n",
        "\n",
        "# Plot the training and validation loss over the epochs\n",
        "plt.plot(history.history['loss'])\n",
        "plt.plot(history.history['val_loss'])\n",
        "plt.title('Model loss')"
      ],
      "metadata": {
        "colab": {
          "base_uri": "https://localhost:8080/",
          "height": 924
        },
        "id": "-vZAnsprjz_h",
        "outputId": "13058d3c-d85b-4972-e48f-81232e793be8"
      },
      "execution_count": 22,
      "outputs": [
        {
          "output_type": "display_data",
          "data": {
            "text/plain": [
              "<Figure size 640x480 with 1 Axes>"
            ],
            "image/png": "[encoded data removed]"
          },
          "metadata": {}
        },
        {
          "output_type": "execute_result",
          "data": {
            "text/plain": [
              "Text(0.5, 1.0, 'Model loss')"
            ]
          },
          "metadata": {},
          "execution_count": 22
        },
        {
          "output_type": "display_data",
          "data": {
            "text/plain": [
              "<Figure size 640x480 with 1 Axes>"
            ],
            "image/png": "[encoded data removed]"
          },
          "metadata": {}
        }
      ]
    },
    {
      "cell_type": "markdown",
      "source": [
        "The training accuracy starts at around 0.98 and increases to 1.0 over the course of 17.5 epochs. The validation accuracy starts at around 0.99 and increases to 0.9975 over the course of 17.5 epochs.\n",
        "\n",
        "Both training and validation accuracy are very high, suggesting that the model is learning well and generalizing well to new data.\n",
        "\n",
        "The training accuracy increases slightly over the course of 17.5 epochs, while the validation accuracy remains relatively constant.\n",
        "\n",
        "There is no evidence of overfitting, as the training and validation accuracy are both high."
      ],
      "metadata": {
        "id": "QhDEXARDmnHO"
      }
    },
    {
      "cell_type": "code",
      "source": [
        "# Get the predicted labels for the test data\n",
        "y_pred = model.predict(X_test)\n",
        "\n",
        "# Plot a random sample of test images with their predicted labels\n",
        "figure = plt.figure(figsize=(20, 8))\n",
        "for i, index in enumerate(np.random.choice(X_test.shape[0], size=15, replace=False)):\n",
        "    ax = figure.add_subplot(3, 5, i + 1, xticks=[], yticks=[])\n",
        "    ax.imshow(np.reshape(X_test.iloc[index].values, (28, 28)), cmap='PuBuGn')\n",
        "    pred_label = np.argmax(y_pred[index])\n",
        "    true_label = y_test.iloc[index]\n",
        "    ax.set_title(\"Predicted: {} | True: {}\".format(pred_label, true_label),\n",
        "                 color=(\"blue\" if pred_label == true_label else \"red\"))"
      ],
      "metadata": {
        "colab": {
          "base_uri": "https://localhost:8080/",
          "height": 692
        },
        "id": "Et0BXYkAk33A",
        "outputId": "67145c56-dd6d-47ff-a706-abc9f4547228"
      },
      "execution_count": 24,
      "outputs": [
        {
          "output_type": "stream",
          "name": "stdout",
          "text": [
            "187/187 [==============================] - 0s 2ms/step\n"
          ]
        },
        {
          "output_type": "display_data",
          "data": {
            "text/plain": [
              "<Figure size 2000x800 with 15 Axes>"
            ],
            "image/png": "[encoded data removed]"
          },
          "metadata": {}
        }
      ]
    },
    {
      "cell_type": "markdown",
      "source": [
        "The code outputs a visualization of a random sample of test images with their corresponding predicted and true labels. The predicted labels are obtained using a trained machine learning model. The sample includes 15 images and the predicted label is displayed in blue if it matches the true label and red if it doesn't."
      ],
      "metadata": {
        "id": "UlZHOviZlHVC"
      }
    },
    {
      "cell_type": "markdown",
      "source": [
        "# CONCLUSION"
      ],
      "metadata": {
        "id": "eyef-kqbz0Kp"
      }
    },
    {
      "cell_type": "markdown",
      "source": [
        "\n",
        "In conclusion, we have successfully created a neural network type classification model for the TMNIST dataset using Python libraries such as pandas, numpy, matplotlib, tensorflow, and keras. We have covered all the necessary steps such as importing libraries, reading in the data, exploring and preparing the data for modeling, building and training a neural network, evaluating its performance, and visualizing the results. Our model achieved an accuracy of 98% which is quite impressive. By following this, you can create your own neural network type classification model for the TMNIST dataset and gain insights into how to evaluate and visualize the model's performance."
      ],
      "metadata": {
        "id": "P_CufMeszvbo"
      }
    },
    {
      "cell_type": "markdown",
      "source": [
        "# REFERENCE"
      ],
      "metadata": {
        "id": "OATt3NbSz9is"
      }
    },
    {
      "cell_type": "markdown",
      "source": [
        "Official documentation of TensorFlow, a popular deep learning framework that can be used to implement neural networks for image classification tasks: https://www.tensorflow.org/\n",
        "\n",
        "The MNIST handwritten digit classification tutorial on TensorFlow website: https://www.tensorflow.org/tutorials/quickstart/beginner\n",
        "\n"
      ],
      "metadata": {
        "id": "rS_0f29a0ADI"
      }
    },
    {
      "cell_type": "markdown",
      "source": [
        "# MIT LICENSE"
      ],
      "metadata": {
        "id": "0HXEM7e80Qdl"
      }
    },
    {
      "cell_type": "markdown",
      "source": [
        "Copyright (c) 2022 Chetan Warad\n",
        "\n",
        "Permission is hereby granted, free of charge, to any person obtaining a copy of this software and associated documentation files (the \"Software\"), to deal in the Software without restriction, including without limitation the rights to use, copy, modify, merge, publish, distribute, sublicense, and/or sell copies of the Software, and to permit persons to whom the Software is furnished to do so, subject to the following conditions:\n",
        "\n",
        "The above copyright notice and this permission notice shall be included in all copies or substantial portions of the Software.\n",
        "\n",
        "THE SOFTWARE IS PROVIDED \"AS IS\", WITHOUT WARRANTY OF ANY KIND, EXPRESS OR IMPLIED, INCLUDING BUT NOT LIMITED TO THE WARRANTIES OF MERCHANTABILITY, FITNESS FOR A PARTICULAR PURPOSE AND NONINFRINGEMENT. IN NO EVENT SHALL THE AUTHORS OR COPYRIGHT HOLDERS BE LIABLE FOR ANY CLAIM, DAMAGES OR OTHER LIABILITY, WHETHER IN AN ACTION OF CONTRACT, TORT OR OTHERWISE, ARISING FROM, OUT OF OR IN CONNECTION WITH THE SOFTWARE OR THE USE OR OTHER DEALINGS IN THE SOFTWARE."
      ],
      "metadata": {
        "id": "xC5o3fg60YJZ"
      }
    }
  ]
}